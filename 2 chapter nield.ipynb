{
 "cells": [
  {
   "cell_type": "code",
   "execution_count": null,
   "id": "a76f9587",
   "metadata": {},
   "outputs": [],
   "source": []
  },
  {
   "cell_type": "markdown",
   "id": "bce4be3b",
   "metadata": {},
   "source": [
    "1. Вероятность того, что сегодня пойдет дождь, составляет 30 %, а вероятность того, что зонт, который вы заказали, доставят вовремя, — 40 %. Вы мечтаете\n",
    "сегодня прогуляться под дождем, но для этого нужно, чтобы пошел дождь и чтобы у вас был зонт. Какова вероятность того, что пойдет дождь И ваш зонт будет доставлен?"
   ]
  },
  {
   "cell_type": "code",
   "execution_count": 8,
   "id": "2315df98",
   "metadata": {},
   "outputs": [
    {
     "name": "stdout",
     "output_type": "stream",
     "text": [
      "Вероятность того, что пойдет дождь и зонт будет доставлен равно 12.0 % \n"
     ]
    }
   ],
   "source": [
    "a = 0.3 # вероятность дождя\n",
    "b = 0.4 # вероятность доставки зонта\n",
    "p = a * b # вероятность того, что пойдет дождь и зонт будет доставлен\n",
    "print(f\"Вероятность того, что пойдет дождь и зонт будет доставлен равно {p * 100} % \") # выводим результат"
   ]
  },
  {
   "cell_type": "markdown",
   "id": "b9cbd138",
   "metadata": {},
   "source": [
    "2. Условия те же, что в предыдущем упражнении, но вы собираетесь не на прогулку, а по делам. Это получится, только если не будет дождя или если у вас\n",
    "появится зонт. Какова вероятность того, что дождя не будет ИЛИ что ваш зонт будет до-\n",
    "ставлен?"
   ]
  },
  {
   "cell_type": "code",
   "execution_count": 9,
   "id": "7127cb0a",
   "metadata": {},
   "outputs": [
    {
     "name": "stdout",
     "output_type": "stream",
     "text": [
      "Вероятность того, что не будет дождя или зонт будет доставлен равно 82.0 % \n"
     ]
    }
   ],
   "source": [
    "a = 0.7 # вероятность что не будет дождя\n",
    "b = 0.4 # вероятность доставки зонта\n",
    "p = a + b - a * b # вероятность того, что не будет дождя или зонт будет доставлен\n",
    "print(f\"Вероятность того, что не будет дождя или зонт будет доставлен равно {p * 100} % \") # выводим результат"
   ]
  },
  {
   "cell_type": "markdown",
   "id": "f47c39e9",
   "metadata": {},
   "source": [
    "3. Условия те же, что в предыдущих упражнениях, однако вы выяснили, что в случае дождя вероятность того, что ваш зонт доставят вовремя, составляет\n",
    "всего 20 %. Какова вероятность того, что пойдет дождь И ваш зонт будет доставлен?"
   ]
  },
  {
   "cell_type": "code",
   "execution_count": 10,
   "id": "6c02b9ee",
   "metadata": {},
   "outputs": [
    {
     "name": "stdout",
     "output_type": "stream",
     "text": [
      "Вероятность того, что пойдет дождь и зонт будет доставлен равно 6.0 % \n"
     ]
    }
   ],
   "source": [
    "a = 0.3 # вероятность дождя\n",
    "b = 0.2 # вероятность доставки зонта при условии дождя\n",
    "p = a * b # вероятность того, что пойдет дождь и зонт будет доставлен\n",
    "print(f\"Вероятность того, что пойдет дождь и зонт будет доставлен равно {p * 100} % \") # выводим результат"
   ]
  },
  {
   "cell_type": "markdown",
   "id": "7a17c86e",
   "metadata": {},
   "source": [
    "4. См.описание"
   ]
  },
  {
   "cell_type": "code",
   "execution_count": 12,
   "id": "d77f8809",
   "metadata": {},
   "outputs": [
    {
     "name": "stdout",
     "output_type": "stream",
     "text": [
      "P(X>=50) = 0.822096\n"
     ]
    }
   ],
   "source": [
    "from scipy.stats import binom\n",
    "\n",
    "n, p = 137, 0.40        # n — брони, p — вероятность no-show\n",
    "prob = binom.sf(49, n, p)  # P(X >= 50) = 1 - CDF(49)\n",
    "print(f\"P(X>=50) = {prob:.6f}\")   # ≈ 0.822096\n"
   ]
  },
  {
   "cell_type": "code",
   "execution_count": null,
   "id": "1c677028",
   "metadata": {},
   "outputs": [
    {
     "name": "stdout",
     "output_type": "stream",
     "text": [
      "P(0.49 < X < 0.51) = 0.001881\n"
     ]
    }
   ],
   "source": [
    "from scipy.stats import beta\n",
    "\n",
    "a, b = 15, 4 # a орел b решка\n",
    "prob = beta.cdf(0.51, a, b) - beta.cdf(0.49, a, b) # P(0.49 < X < 0.51)\n",
    "print(f\"P(0.49 < X < 0.51) = {prob:.6f}\")  # P(0.49 < X < 0.51) = 0.001881"
   ]
  }
 ],
 "metadata": {
  "kernelspec": {
   "display_name": ".venv (3.13.5)",
   "language": "python",
   "name": "python3"
  },
  "language_info": {
   "codemirror_mode": {
    "name": "ipython",
    "version": 3
   },
   "file_extension": ".py",
   "mimetype": "text/x-python",
   "name": "python",
   "nbconvert_exporter": "python",
   "pygments_lexer": "ipython3",
   "version": "3.13.7"
  }
 },
 "nbformat": 4,
 "nbformat_minor": 5
}
