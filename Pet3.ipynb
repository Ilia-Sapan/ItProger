{
 "cells": [
  {
   "cell_type": "code",
   "execution_count": null,
   "id": "bdc08831",
   "metadata": {},
   "outputs": [],
   "source": [
    "import pandas as pd\n",
    "import numpy as np\n",
    "import matplotlib.pyplot as plt\n",
    "\n",
    "path = r\"C:\\Users\\isapa\\Desktop\\Arbeitslose Wohnquartiere Düsseldorf 2014_0.csv\" \n",
    "path2 = r\"C:\\Users\\isapa\\Desktop\\Sozialräumliche Gliederung Arbeitslose.csv\" \n",
    "\n",
    "data = pd.read_csv(path, sep=\";\") #  чтение данных из CSV файла с разделителем \";\"\n",
    "data2 = pd.read_csv(path2, sep=\";\") # чтение второго CSV файла с разделителем \";\"\n",
    "\n",
    "df = pd.concat([data, data2], axis=1) # объединение двух датафреймов по столбцам\n",
    "df = df.dropna() # удаление строк с пропущенными значениями\n",
    "df.head(5) # отображение первых 5 строк датафрейма\n"
   ]
  },
  {
   "cell_type": "code",
   "execution_count": null,
   "id": "076cefe6",
   "metadata": {},
   "outputs": [],
   "source": [
    "df.info() # информация о датафрейме"
   ]
  },
  {
   "cell_type": "code",
   "execution_count": 44,
   "id": "0cab011c",
   "metadata": {},
   "outputs": [
    {
     "data": {
      "text/plain": [
       "Wohnquartier                            0\n",
       "Jahr_2014                               0\n",
       "Stadtbezirk                             0\n",
       "Sozialraum                              0\n",
       "Arbeitslose Personen insgesamt          0\n",
       "Arbeitslose Personen unter 25 Jahren    0\n",
       "Langzeitarbeitslose                     0\n",
       "Arbeitslose Ausländerinnen/Ausländer    0\n",
       "dtype: int64"
      ]
     },
     "execution_count": 44,
     "metadata": {},
     "output_type": "execute_result"
    }
   ],
   "source": [
    "df.isnull().sum()"
   ]
  }
 ],
 "metadata": {
  "kernelspec": {
   "display_name": ".venv (3.13.5)",
   "language": "python",
   "name": "python3"
  },
  "language_info": {
   "codemirror_mode": {
    "name": "ipython",
    "version": 3
   },
   "file_extension": ".py",
   "mimetype": "text/x-python",
   "name": "python",
   "nbconvert_exporter": "python",
   "pygments_lexer": "ipython3",
   "version": "3.13.7"
  }
 },
 "nbformat": 4,
 "nbformat_minor": 5
}
